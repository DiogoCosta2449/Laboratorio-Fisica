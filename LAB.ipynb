{
 "cells": [
  {
   "cell_type": "markdown",
   "id": "8deb952e",
   "metadata": {},
   "source": [
    "1. Importação de Bibliotecas\n",
    "\n",
    "serial: Para comunicação com o Arduino via porta serial.\n",
    "time: Para controle de tempo e intervalos na coleta de dados.\n",
    "numpy e pandas: Para manipulação eficiente de dados numéricos e tabulares.\n",
    "matplotlib e seaborn: Para visualizações gráficas.\n",
    "prettytable: Não está sendo utilizado no código; pode ser removido para evitar dependências desnecessárias."
   ]
  },
  {
   "cell_type": "code",
   "execution_count": 1,
   "id": "ddd397d1-3b89-4525-bf47-7496778702a7",
   "metadata": {},
   "outputs": [
    {
     "ename": "ModuleNotFoundError",
     "evalue": "No module named 'serial'",
     "output_type": "error",
     "traceback": [
      "\u001b[1;31m---------------------------------------------------------------------------\u001b[0m",
      "\u001b[1;31mModuleNotFoundError\u001b[0m                       Traceback (most recent call last)",
      "Cell \u001b[1;32mIn[1], line 2\u001b[0m\n\u001b[0;32m      1\u001b[0m \u001b[38;5;66;03m# Importação de bibliotecas necessárias\u001b[39;00m\n\u001b[1;32m----> 2\u001b[0m \u001b[38;5;28;01mimport\u001b[39;00m \u001b[38;5;21;01mserial\u001b[39;00m  \u001b[38;5;66;03m# Comunicação com o Arduino via porta serial\u001b[39;00m\n\u001b[0;32m      3\u001b[0m \u001b[38;5;28;01mimport\u001b[39;00m \u001b[38;5;21;01mtime\u001b[39;00m  \u001b[38;5;66;03m# Controle de tempo e intervalos\u001b[39;00m\n\u001b[0;32m      4\u001b[0m \u001b[38;5;28;01mimport\u001b[39;00m \u001b[38;5;21;01mnumpy\u001b[39;00m \u001b[38;5;28;01mas\u001b[39;00m \u001b[38;5;21;01mnp\u001b[39;00m  \u001b[38;5;66;03m# Manipulação de arrays numéricos\u001b[39;00m\n",
      "\u001b[1;31mModuleNotFoundError\u001b[0m: No module named 'serial'"
     ]
    }
   ],
   "source": [
    "# Importação de bibliotecas necessárias\n",
    "import serial  # Comunicação com o Arduino via porta serial\n",
    "import time  # Controle de tempo e intervalos\n",
    "import numpy as np  # Manipulação de arrays numéricos\n",
    "import pandas as pd  # Manipulação de dados em formato tabular\n",
    "import matplotlib.pyplot as plt  # Visualização gráfica\n",
    "import seaborn as sns  # Visualização gráfica avançada\n",
    "from prettytable import PrettyTable  # (Não utilizado no código, pode ser removido)"
   ]
  },
  {
   "cell_type": "markdown",
   "id": "0d30c3fd",
   "metadata": {},
   "source": [
    "2. Configuração da Porta Serial\n",
    "\n",
    "port: Configura a porta de comunicação com o Arduino. Certifique-se de que o caminho está correto.\n",
    "baud_rate: Define a taxa de transmissão de dados; deve coincidir com o configurado no Arduino.\n",
    "duration e interval: Controlam a duração total e o intervalo entre coletas. Esses valores podem ser ajustados para necessidades específicas."
   ]
  },
  {
   "cell_type": "code",
   "execution_count": null,
   "id": "af79fad9",
   "metadata": {},
   "outputs": [],
   "source": [
    "port = '/dev/ttyACM0'  # Porta do Arduino\n",
    "baud_rate = 9600  # Taxa de Baud\n",
    "duration = 60  # Tempo de coleta (1 minuto)\n",
    "interval = 1  # Intervalo entre coletas (1 segundo)\n"
   ]
  },
  {
   "cell_type": "markdown",
   "id": "ef2f5805",
   "metadata": {},
   "source": [
    "3. Inicialização da Conexão Serial\n",
    "\n",
    "Aguardar 2 segundos é uma prática comum para garantir que o Arduino inicie corretamente."
   ]
  },
  {
   "cell_type": "code",
   "execution_count": null,
   "id": "00ca2d14",
   "metadata": {},
   "outputs": [],
   "source": [
    "ser = serial.Serial(port, baud_rate)\n",
    "time.sleep(2)  # Aguarda a inicialização da comunicação serial\n"
   ]
  },
  {
   "cell_type": "markdown",
   "id": "828a3650",
   "metadata": {},
   "source": [
    "4. Definição de Estruturas de Dados\n",
    "\n",
    "Listas para armazenar os dados coletados. Alternativamente, poderia-se usar um dicionário para uma estrutura mais compacta."
   ]
  },
  {
   "cell_type": "code",
   "execution_count": null,
   "id": "d7f7bff8",
   "metadata": {},
   "outputs": [],
   "source": [
    "timestamps = []\n",
    "temperatures = []\n",
    "humidities = []\n",
    "pressures = []\n",
    "acc_x_values = []\n",
    "acc_y_values = []\n",
    "acc_z_values = []\n",
    "gyro_x_values = []\n",
    "gyro_y_values = []\n",
    "gyro_z_values = []\n",
    "mag_x_values = []\n",
    "mag_y_values = []\n",
    "mag_z_values = []\n"
   ]
  },
  {
   "cell_type": "markdown",
   "id": "1f7b3af8",
   "metadata": {},
   "source": [
    "5. Loop de Coleta de Dados\n",
    "\n",
    "start_time marca o início da coleta e o loop é executado enquanto o tempo decorrido for menor que duration."
   ]
  },
  {
   "cell_type": "code",
   "execution_count": null,
   "id": "7359b97a",
   "metadata": {},
   "outputs": [],
   "source": [
    "start_time = time.time()\n",
    "while time.time() - start_time < duration:\n"
   ]
  },
  {
   "cell_type": "markdown",
   "id": "28b545d9",
   "metadata": {},
   "source": [
    "6. Leitura e Processamento dos Dados\n",
    "Lê uma linha da porta serial e processa o texto. Certifique-se de que o Arduino envia os dados no formato correto para evitar erros de parsing."
   ]
  },
  {
   "cell_type": "code",
   "execution_count": null,
   "id": "5d92a4ce",
   "metadata": {},
   "outputs": [],
   "source": [
    "line = ser.readline().decode('utf-8').strip()\n"
   ]
  },
  {
   "cell_type": "markdown",
   "id": "55adb980",
   "metadata": {},
   "source": [
    "7. Salvamento Condicional dos Dados\n",
    "Garante que todos os dados estão presentes antes de salvar. No entanto, isso pode levar à perda de dados parciais. Avalie se é desejado."
   ]
  },
  {
   "cell_type": "code",
   "execution_count": null,
   "id": "8c1b6000",
   "metadata": {},
   "outputs": [],
   "source": [
    "if None not in [timestamp, temperature, humidity, pressure, acc_x, acc_y, acc_z, gyro_x, gyro_y, gyro_z, mag_x, mag_y, mag_z]:\n"
   ]
  },
  {
   "cell_type": "markdown",
   "id": "3334d295",
   "metadata": {},
   "source": [
    "8. Encerramento da Conexão Serial\n",
    "Boa prática para liberar a porta serial."
   ]
  },
  {
   "cell_type": "code",
   "execution_count": null,
   "id": "bb266dbf",
   "metadata": {},
   "outputs": [],
   "source": [
    "ser.close()\n"
   ]
  },
  {
   "cell_type": "markdown",
   "id": "5ac775b7",
   "metadata": {},
   "source": [
    "9. Criação de DataFrame e Salvamento em CSV\n",
    "Cria um DataFrame com os dados e salva em um arquivo CSV. Isso garante persistência dos dados para análise futura."
   ]
  },
  {
   "cell_type": "code",
   "execution_count": null,
   "id": "80c74c5e",
   "metadata": {},
   "outputs": [],
   "source": [
    "data = {\n",
    "    'Timestamp': timestamps,\n",
    "    'Temperature (C)': temperatures,\n",
    "    # ...\n",
    "}\n",
    "df = pd.DataFrame(data)\n",
    "df.to_csv('sensor_data.csv', index=False)\n"
   ]
  },
  {
   "cell_type": "markdown",
   "id": "27f09937",
   "metadata": {},
   "source": [
    "10. Estatística Descritiva\n",
    "Usa o método describe() do pandas para gerar estatísticas descritivas. Poderia incluir mais análises, como moda ou variância."
   ]
  },
  {
   "cell_type": "code",
   "execution_count": null,
   "id": "dda6baa7",
   "metadata": {},
   "outputs": [],
   "source": [
    "statistics = df.describe()\n",
    "print(\"Estatísticas Descritivas:\")\n",
    "print(statistics)\n"
   ]
  },
  {
   "cell_type": "markdown",
   "id": "20b6648f",
   "metadata": {},
   "source": [
    "11. Gráficos\n",
    "\n",
    "Gráficos Temporais\n",
    "Usados para visualizar a evolução dos dados ao longo do tempo. Estão bem estruturados, mas a inclusão de legendas ou linhas de grade poderia melhorar a legibilidade.\n",
    "Histogramas\n",
    "Mostram a distribuição de cada variável. Configurações como o número de bins foram escolhidas adequadamente."
   ]
  },
  {
   "cell_type": "markdown",
   "id": "627e773d",
   "metadata": {},
   "source": [
    "Gráficos Temporais"
   ]
  },
  {
   "cell_type": "code",
   "execution_count": null,
   "id": "7c99f8c3",
   "metadata": {},
   "outputs": [],
   "source": [
    "#Gráficos Temporais\n",
    "plt.plot(df['Timestamp'], df['Temperature (C)'], color='tab:red')\n"
   ]
  },
  {
   "cell_type": "markdown",
   "id": "19672211",
   "metadata": {},
   "source": [
    "Visualiza como as variáveis mudam ao longo do tempo.\n",
    "Inclua legendas e linhas de grade para maior clareza."
   ]
  },
  {
   "cell_type": "markdown",
   "id": "e28414aa",
   "metadata": {},
   "source": [
    "Histogramas"
   ]
  },
  {
   "cell_type": "code",
   "execution_count": null,
   "id": "d86f77db",
   "metadata": {},
   "outputs": [],
   "source": [
    "#Histogramas\n",
    "plt.hist(df['Temperature (C)'], bins=20, color='tab:red', edgecolor='black')\n"
   ]
  },
  {
   "cell_type": "markdown",
   "id": "0208f693",
   "metadata": {},
   "source": [
    "Mostra a distribuição de cada variável. O número de bins parece apropriado."
   ]
  },
  {
   "cell_type": "markdown",
   "id": "471a2e9c",
   "metadata": {},
   "source": [
    "Heatmap de Correlação"
   ]
  },
  {
   "cell_type": "code",
   "execution_count": null,
   "id": "c38878d8",
   "metadata": {},
   "outputs": [],
   "source": [
    "#Heatmap de Correlação\n",
    "correlation_matrix = df.corr()\n",
    "sns.heatmap(correlation_matrix, annot=True, cmap='coolwarm', fmt='.2f', linewidths=0.5, vmin=-1, vmax=1)\n"
   ]
  },
  {
   "cell_type": "markdown",
   "id": "54082e45",
   "metadata": {},
   "source": [
    "Visualiza a correlação entre variáveis. A escolha da paleta de cores coolwarm é adequada para o contexto."
   ]
  }
 ],
 "metadata": {
  "kernelspec": {
   "display_name": "base",
   "language": "python",
   "name": "python3"
  },
  "language_info": {
   "codemirror_mode": {
    "name": "ipython",
    "version": 3
   },
   "file_extension": ".py",
   "mimetype": "text/x-python",
   "name": "python",
   "nbconvert_exporter": "python",
   "pygments_lexer": "ipython3",
   "version": "3.12.7"
  }
 },
 "nbformat": 4,
 "nbformat_minor": 5
}
